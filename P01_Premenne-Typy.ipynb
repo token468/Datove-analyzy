{
 "cells": [
  {
   "cell_type": "markdown",
   "id": "d17e9da8",
   "metadata": {},
   "source": [
    "# 01. Výpis, tlač"
   ]
  },
  {
   "cell_type": "code",
   "execution_count": 2,
   "id": "99078927",
   "metadata": {},
   "outputs": [
    {
     "name": "stdout",
     "output_type": "stream",
     "text": [
      "Its alive\n"
     ]
    }
   ],
   "source": [
    "print(\"Its alive\");"
   ]
  },
  {
   "cell_type": "markdown",
   "id": "47da2682",
   "metadata": {},
   "source": [
    "# 02. Premenné a dátové typy"
   ]
  },
  {
   "cell_type": "code",
   "execution_count": 14,
   "id": "12502eaa",
   "metadata": {},
   "outputs": [
    {
     "name": "stdout",
     "output_type": "stream",
     "text": [
      "Ahoj Adam\n",
      "Ahoj Adam\n",
      "Do Prazdnin je este 24 dni!\n"
     ]
    }
   ],
   "source": [
    "# Jednoriadkovy komentar (poznamky, odkazy)\n",
    "# Retazes (str - string)\n",
    "menoKlient = \"Adam\"\n",
    "print(\"Ahoj\", menoKlient)\n",
    "print(\"Ahoj \" + menoKlient)\n",
    "\n",
    "# Cele cislo (int - integer)\n",
    "pocetDniPrazdniny = 24\n",
    "print(\"Do Prazdnin je este\", pocetDniPrazdniny, \"dni!\")"
   ]
  },
  {
   "cell_type": "code",
   "execution_count": null,
   "id": "507d0cf2",
   "metadata": {},
   "outputs": [],
   "source": []
  },
  {
   "cell_type": "code",
   "execution_count": null,
   "id": "7ec610a3",
   "metadata": {},
   "outputs": [],
   "source": []
  },
  {
   "cell_type": "code",
   "execution_count": null,
   "id": "2fbd075f",
   "metadata": {},
   "outputs": [],
   "source": []
  }
 ],
 "metadata": {
  "kernelspec": {
   "display_name": "Python 3 (ipykernel)",
   "language": "python",
   "name": "python3"
  },
  "language_info": {
   "codemirror_mode": {
    "name": "ipython",
    "version": 3
   },
   "file_extension": ".py",
   "mimetype": "text/x-python",
   "name": "python",
   "nbconvert_exporter": "python",
   "pygments_lexer": "ipython3",
   "version": "3.9.7"
  }
 },
 "nbformat": 4,
 "nbformat_minor": 5
}
